{
 "cells": [
  {
   "cell_type": "code",
   "execution_count": 1,
   "id": "a0c8ce02-c4bb-4b65-87f3-007b0d219f57",
   "metadata": {
    "tags": []
   },
   "outputs": [],
   "source": [
    "import pandas as pd\n",
    "import argparse\n",
    "import logging\n",
    "import json\n",
    "import os\n",
    "import pathlib\n",
    "import fiona\n",
    "import numpy as np\n",
    "import geopandas as gpd\n",
    "from shapely.geometry.polygon import Polygon\n",
    "from shapely.geometry.multipolygon import MultiPolygon\n",
    "from geopandas.tools import geocode\n",
    "from shapely.geometry import Point\n",
    "import requests\n",
    "from zipfile import ZipFile\n",
    "from tqdm import trange, tqdm"
   ]
  },
  {
   "cell_type": "code",
   "execution_count": 2,
   "id": "ae316071-85c8-4070-985d-a34c356a2197",
   "metadata": {
    "tags": []
   },
   "outputs": [],
   "source": [
    "def get_pop(communes):\n",
    "    com_pop = data_pop[data_pop[\"Num_Comune\"].isin(communes)]# GGDENR Numéro OFS de la commune district_limits[district_limits['NAME'].isin(TI_districts)]\n",
    "    com_pop = com_pop.reset_index(drop =True)\n",
    "    d_pop = com_pop[\"Stato della popolazione al 31 dicembre\"].sum()\n",
    "    com_pop[\"percent of disrict pop\"] = round((com_pop[\"Stato della popolazione al 31 dicembre\"]/d_pop),2)\n",
    "    \n",
    "    return com_pop"
   ]
  },
  {
   "cell_type": "code",
   "execution_count": 3,
   "id": "e17b4690-8cfa-4937-bbb6-0d75a43ad1b1",
   "metadata": {
    "tags": []
   },
   "outputs": [],
   "source": [
    "def get_coordinates(comune):\n",
    "    base_url = \"https://api3.geo.admin.ch/rest/services/api/SearchServer\"\n",
    "    params = {\n",
    "        \"searchText\": comune,\n",
    "        \"type\": \"locations\",\n",
    "        \"lang\": \"en\",\n",
    "        \"limit\": 1,\n",
    "    }\n",
    "\n",
    "    try:\n",
    "        response = requests.get(base_url, params=params)\n",
    "        response.raise_for_status()  # Check for any request errors\n",
    "        data = response.json()\n",
    "\n",
    "        # Extract longitude and latitude from the first result\n",
    "        if \"results\" in data and len(data[\"results\"]) > 0:\n",
    "            result = data[\"results\"][0]\n",
    "            longitude = result[\"attrs\"][\"lon\"]\n",
    "            latitude = result[\"attrs\"][\"lat\"]\n",
    "            return latitude, longitude\n",
    "        else:\n",
    "            print(\"No results found for Lugano.\")\n",
    "            return None, None\n",
    "\n",
    "    except requests.exceptions.RequestException as e:\n",
    "        print(f\"Error: {e}\")\n",
    "        return None, None"
   ]
  },
  {
   "cell_type": "code",
   "execution_count": 40,
   "id": "04658895-3cbb-4d10-aea4-26930b858fd4",
   "metadata": {
    "tags": []
   },
   "outputs": [],
   "source": [
    "## GET temeperature in 2020 for a comune - WORKS!\n",
    "def get_weather(lat, lon, START_DATE, END_DATE, com):\n",
    "    \n",
    "    API_URL = \"https://archive-api.open-meteo.com/v1/archive?\"\n",
    "\n",
    "    # Parameters for the API request\n",
    "    params = {\n",
    "        \"latitude\": lat,\n",
    "        \"longitude\": lon,\n",
    "        \"hourly\": \"temperature_2m\",\n",
    "        \"start_date\": START_DATE,\n",
    "        \"end_date\": END_DATE,\n",
    "        \"model\": \"gfs\",\n",
    "        \"timezone\": \"Europe/Zurich\"\n",
    "    }\n",
    "\n",
    "    response = requests.get(API_URL, params=params)\n",
    "\n",
    "    temp = json.loads(response.text)\n",
    "\n",
    "    temp_2 = pd.DataFrame.from_dict(temp)\n",
    "    temp_2.reset_index(inplace=True) #\n",
    "\n",
    "    weather = pd.DataFrame()\n",
    "    column_name = \"temperature_2m\"\n",
    "    weather[\"time\"] = temp_2.at[0, \"hourly\"]\n",
    "    weather[column_name] = temp_2.at[1, \"hourly\"]\n",
    "    weather.set_index(\"time\", inplace=True)\n",
    "    weather.index = pd.to_datetime(weather.index)\n",
    "\n",
    "    return weather"
   ]
  },
  {
   "cell_type": "code",
   "execution_count": 39,
   "id": "6754f32c-bf9b-4802-b632-2418cc6f25de",
   "metadata": {
    "tags": []
   },
   "outputs": [],
   "source": [
    "def get_HDD(weather, com):\n",
    "    # Reference temperature (in Celsius)\n",
    "    reference_temperature = 20\n",
    "\n",
    "    # Calculate daily average temperature\n",
    "    daily_average_temperature = weather.resample('D').mean()\n",
    "\n",
    "    HDD_df = daily_average_temperature[daily_average_temperature[\"temperature_2m\"] <= 12]\n",
    "    \n",
    "    # Calculate Heating Degree Days\n",
    "    HDD = (reference_temperature - HDD_df) #.clip(lower=0)\n",
    "    HDD_tot = HDD.sum()\n",
    "    \n",
    "    return HDD_tot"
   ]
  },
  {
   "cell_type": "code",
   "execution_count": 98,
   "id": "3ae1c07a-327c-488a-90c3-be8b9458d8ca",
   "metadata": {
    "tags": []
   },
   "outputs": [],
   "source": [
    "## Calculating the weighted HDD per district - WORKS\n",
    "\n",
    "pathlib.Path()\n",
    "NOTEBOOK_PATH = pathlib.Path().resolve()\n",
    "p = NOTEBOOK_PATH.parent\n",
    "DATA_DIRECTORY = p / \"data\"\n",
    "MAP_DIRECTORY = DATA_DIRECTORY /'maps'\n",
    "BLDG_DIRECTORY = DATA_DIRECTORY /'Buildings_rea'\n",
    "CANTON = \"Ticino\"\n",
    "CANTON_CSV_DIRECTORY = BLDG_DIRECTORY / CANTON\n",
    "\n",
    "START_DATE = \"2020-01-01\"\n",
    "END_DATE = \"2020-12-31\"\n",
    "\n",
    "sup_file = DATA_DIRECTORY / \"support_data\" \n",
    "# reading population data\n",
    "data_pop = pd.read_excel(sup_file/\"pop_TI.xlsx\", sheet_name = \"pop_c\", header=0)\n",
    "data_pop = data_pop[[\"Num_Comune\", \"Nome_Comune\" , \"Stato della popolazione al 31 dicembre\"]]\n",
    "\n",
    "UST_file = \"UST_comune.csv\"\n",
    "canton =\"TI\"\n",
    "UST_comune = pd.read_csv(MAP_DIRECTORY/UST_file)\n",
    "UST_comune = UST_comune[UST_comune['Cantone'] == canton].reset_index()\n",
    "UST_district = UST_comune['Numero del Distretto'].drop_duplicates().reset_index(drop=True)\n",
    "\n",
    "c_data = pd.DataFrame()\n",
    "d_data=pd.DataFrame()\n",
    "\n",
    "for dis_num in UST_district:\n",
    "    DISTRICT = str(UST_comune.loc[(UST_comune[\"Numero del Distretto\"] == dis_num), \"Nome del Distretto\"].iloc[0])\n",
    "    com_name = UST_comune.loc[UST_comune[\"Numero del Distretto\"] == dis_num, \"Nome del Comune\"] \n",
    "    com_num = UST_comune.loc[UST_comune[\"Numero del Distretto\"] == dis_num, \"Numero UST del Comune\"] #\n",
    "    c_pop = get_pop(com_num)\n",
    "    c_pop.set_index(\"Nome_Comune\", inplace = True)\n",
    "    \n",
    "    for com in com_name:\n",
    "        c_lat, c_lon = get_coordinates(com)\n",
    "        c_weather = get_weather(c_lat, c_lon,START_DATE, END_DATE, com)\n",
    "        c_HDD = get_HDD(c_weather, com)\n",
    "        c = pd.DataFrame(c_HDD).rename(index={\"temperature_2m\":com}, columns={0:\"HDD\"})\n",
    "        c_data = pd.concat([c_data, c])\n",
    "        \n",
    "#    d_HDD = pd.concat([c_pop, c_data], axis=1)\n",
    "    d_HDD = c_data.join(c_pop)\n",
    "    d_HDD[\"w_HDD\"] = d_HDD[\"HDD\"]*d_HDD[\"percent of disrict pop\"]\n",
    "    d_pw_HDD= pd.DataFrame(data = (d_HDD[\"w_HDD\"].sum()), index = [\"pw_HDD\"], columns =[DISTRICT])\n",
    "    d_data = pd.concat([d_data, d_pw_HDD], axis=1)\n",
    "    \n",
    "    avg_HDD = d_data.loc[\"pw_HDD\"].mean()\n",
    "    d_data.loc[\"r_HDD\"] = d_data.loc[\"pw_HDD\"] /avg_HDD\n",
    "   \n",
    "    c_data = c_data[0:0]\n",
    "\n",
    "path = str(DATA_DIRECTORY)+ \"/support_data/district_pop_weighted_HDD.csv\"\n",
    "filepath = pathlib.Path(path)  \n",
    "filepath.parent.mkdir(parents=True, exist_ok=True)  \n",
    "d_data.to_csv(filepath, sep=\";\", encoding='utf-8-sig', index_label='index')"
   ]
  },
  {
   "cell_type": "markdown",
   "id": "f2746304-ff95-4360-87f0-87342c288a69",
   "metadata": {},
   "source": [
    "# TESTS"
   ]
  },
  {
   "cell_type": "code",
   "execution_count": 96,
   "id": "dca6d6cb-e42a-4972-a1af-be0c12751320",
   "metadata": {
    "tags": []
   },
   "outputs": [],
   "source": [
    "path = str(DATA_DIRECTORY)+ \"/support_data/district_pop_weighted_HDD.csv\"\n",
    "filepath = pathlib.Path(path)  \n",
    "filepath.parent.mkdir(parents=True, exist_ok=True)  \n",
    "d_data.to_csv(filepath, sep=\";\", encoding='utf-8-sig', index_label='index')"
   ]
  },
  {
   "cell_type": "code",
   "execution_count": 94,
   "id": "1aeb71c3-b36f-4577-8f82-e1ce144fb42a",
   "metadata": {
    "tags": []
   },
   "outputs": [
    {
     "data": {
      "text/html": [
       "<div>\n",
       "<style scoped>\n",
       "    .dataframe tbody tr th:only-of-type {\n",
       "        vertical-align: middle;\n",
       "    }\n",
       "\n",
       "    .dataframe tbody tr th {\n",
       "        vertical-align: top;\n",
       "    }\n",
       "\n",
       "    .dataframe thead th {\n",
       "        text-align: right;\n",
       "    }\n",
       "</style>\n",
       "<table border=\"1\" class=\"dataframe\">\n",
       "  <thead>\n",
       "    <tr style=\"text-align: right;\">\n",
       "      <th></th>\n",
       "      <th>Bellinzona</th>\n",
       "      <th>Blenio</th>\n",
       "      <th>Leventina</th>\n",
       "      <th>Locarno</th>\n",
       "      <th>Lugano</th>\n",
       "      <th>Mendrisio</th>\n",
       "      <th>Riviera</th>\n",
       "      <th>Vallemaggia</th>\n",
       "    </tr>\n",
       "  </thead>\n",
       "  <tbody>\n",
       "    <tr>\n",
       "      <th>pw_HDD</th>\n",
       "      <td>4096.287333</td>\n",
       "      <td>4443.837583</td>\n",
       "      <td>4360.818083</td>\n",
       "      <td>2473.441458</td>\n",
       "      <td>2611.406167</td>\n",
       "      <td>2478.710542</td>\n",
       "      <td>4590.493458</td>\n",
       "      <td>3372.015833</td>\n",
       "    </tr>\n",
       "    <tr>\n",
       "      <th>r_HDD</th>\n",
       "      <td>1.152787</td>\n",
       "      <td>1.250596</td>\n",
       "      <td>1.227232</td>\n",
       "      <td>0.696082</td>\n",
       "      <td>0.734908</td>\n",
       "      <td>0.697565</td>\n",
       "      <td>1.291868</td>\n",
       "      <td>0.948961</td>\n",
       "    </tr>\n",
       "  </tbody>\n",
       "</table>\n",
       "</div>"
      ],
      "text/plain": [
       "         Bellinzona       Blenio    Leventina      Locarno       Lugano   \n",
       "pw_HDD  4096.287333  4443.837583  4360.818083  2473.441458  2611.406167  \\\n",
       "r_HDD      1.152787     1.250596     1.227232     0.696082     0.734908   \n",
       "\n",
       "          Mendrisio      Riviera  Vallemaggia  \n",
       "pw_HDD  2478.710542  4590.493458  3372.015833  \n",
       "r_HDD      0.697565     1.291868     0.948961  "
      ]
     },
     "execution_count": 94,
     "metadata": {},
     "output_type": "execute_result"
    }
   ],
   "source": [
    "d_data"
   ]
  },
  {
   "cell_type": "code",
   "execution_count": 93,
   "id": "7f0e77e4-c14f-4abb-97c0-889bd1913c37",
   "metadata": {
    "tags": []
   },
   "outputs": [
    {
     "data": {
      "text/plain": [
       "Bellinzona     float64\n",
       "Blenio         float64\n",
       "Leventina      float64\n",
       "Locarno        float64\n",
       "Lugano         float64\n",
       "Mendrisio      float64\n",
       "Riviera        float64\n",
       "Vallemaggia    float64\n",
       "dtype: object"
      ]
     },
     "execution_count": 93,
     "metadata": {},
     "output_type": "execute_result"
    }
   ],
   "source": [
    "d_data.dtypes"
   ]
  },
  {
   "cell_type": "code",
   "execution_count": 88,
   "id": "d2efafe8-ed15-4801-93c8-ccb4e7c2451f",
   "metadata": {
    "tags": []
   },
   "outputs": [
    {
     "data": {
      "text/html": [
       "<div>\n",
       "<style scoped>\n",
       "    .dataframe tbody tr th:only-of-type {\n",
       "        vertical-align: middle;\n",
       "    }\n",
       "\n",
       "    .dataframe tbody tr th {\n",
       "        vertical-align: top;\n",
       "    }\n",
       "\n",
       "    .dataframe thead th {\n",
       "        text-align: right;\n",
       "    }\n",
       "</style>\n",
       "<table border=\"1\" class=\"dataframe\">\n",
       "  <thead>\n",
       "    <tr style=\"text-align: right;\">\n",
       "      <th></th>\n",
       "      <th>Bellinzona</th>\n",
       "      <th>Blenio</th>\n",
       "      <th>Leventina</th>\n",
       "      <th>Locarno</th>\n",
       "      <th>Lugano</th>\n",
       "      <th>Mendrisio</th>\n",
       "      <th>Riviera</th>\n",
       "      <th>Vallemaggia</th>\n",
       "    </tr>\n",
       "  </thead>\n",
       "  <tbody>\n",
       "    <tr>\n",
       "      <th>pw_HDD</th>\n",
       "      <td>4096.287333</td>\n",
       "      <td>4443.837583</td>\n",
       "      <td>4360.818083</td>\n",
       "      <td>2473.441458</td>\n",
       "      <td>2611.406167</td>\n",
       "      <td>2478.710542</td>\n",
       "      <td>4590.493458</td>\n",
       "      <td>3372.015833</td>\n",
       "    </tr>\n",
       "  </tbody>\n",
       "</table>\n",
       "</div>"
      ],
      "text/plain": [
       "         Bellinzona       Blenio    Leventina      Locarno       Lugano   \n",
       "pw_HDD  4096.287333  4443.837583  4360.818083  2473.441458  2611.406167  \\\n",
       "\n",
       "          Mendrisio      Riviera  Vallemaggia  \n",
       "pw_HDD  2478.710542  4590.493458  3372.015833  "
      ]
     },
     "execution_count": 88,
     "metadata": {},
     "output_type": "execute_result"
    }
   ],
   "source": [
    "avg_HDD = d_data.loc[\"pw_HDD\"].mean()\n",
    "d_data"
   ]
  },
  {
   "cell_type": "code",
   "execution_count": 89,
   "id": "83dba54d-c228-4791-bb3a-1d3d14baa90a",
   "metadata": {
    "tags": []
   },
   "outputs": [
    {
     "data": {
      "text/plain": [
       "3553.3763072916668"
      ]
     },
     "execution_count": 89,
     "metadata": {},
     "output_type": "execute_result"
    }
   ],
   "source": [
    "avg_HDD"
   ]
  },
  {
   "cell_type": "code",
   "execution_count": 91,
   "id": "1c25a15c-64b2-48fc-8087-0e8acb434c0f",
   "metadata": {
    "tags": []
   },
   "outputs": [
    {
     "data": {
      "text/html": [
       "<div>\n",
       "<style scoped>\n",
       "    .dataframe tbody tr th:only-of-type {\n",
       "        vertical-align: middle;\n",
       "    }\n",
       "\n",
       "    .dataframe tbody tr th {\n",
       "        vertical-align: top;\n",
       "    }\n",
       "\n",
       "    .dataframe thead th {\n",
       "        text-align: right;\n",
       "    }\n",
       "</style>\n",
       "<table border=\"1\" class=\"dataframe\">\n",
       "  <thead>\n",
       "    <tr style=\"text-align: right;\">\n",
       "      <th></th>\n",
       "      <th>Bellinzona</th>\n",
       "      <th>Blenio</th>\n",
       "      <th>Leventina</th>\n",
       "      <th>Locarno</th>\n",
       "      <th>Lugano</th>\n",
       "      <th>Mendrisio</th>\n",
       "      <th>Riviera</th>\n",
       "      <th>Vallemaggia</th>\n",
       "    </tr>\n",
       "  </thead>\n",
       "  <tbody>\n",
       "    <tr>\n",
       "      <th>pw_HDD</th>\n",
       "      <td>4096.287333</td>\n",
       "      <td>4443.837583</td>\n",
       "      <td>4360.818083</td>\n",
       "      <td>2473.441458</td>\n",
       "      <td>2611.406167</td>\n",
       "      <td>2478.710542</td>\n",
       "      <td>4590.493458</td>\n",
       "      <td>3372.015833</td>\n",
       "    </tr>\n",
       "    <tr>\n",
       "      <th>r_HDD</th>\n",
       "      <td>1.152787</td>\n",
       "      <td>1.250596</td>\n",
       "      <td>1.227232</td>\n",
       "      <td>0.696082</td>\n",
       "      <td>0.734908</td>\n",
       "      <td>0.697565</td>\n",
       "      <td>1.291868</td>\n",
       "      <td>0.948961</td>\n",
       "    </tr>\n",
       "  </tbody>\n",
       "</table>\n",
       "</div>"
      ],
      "text/plain": [
       "         Bellinzona       Blenio    Leventina      Locarno       Lugano   \n",
       "pw_HDD  4096.287333  4443.837583  4360.818083  2473.441458  2611.406167  \\\n",
       "r_HDD      1.152787     1.250596     1.227232     0.696082     0.734908   \n",
       "\n",
       "          Mendrisio      Riviera  Vallemaggia  \n",
       "pw_HDD  2478.710542  4590.493458  3372.015833  \n",
       "r_HDD      0.697565     1.291868     0.948961  "
      ]
     },
     "execution_count": 91,
     "metadata": {},
     "output_type": "execute_result"
    }
   ],
   "source": [
    "d_data.loc[\"r_HDD\"] = d_data.loc[\"pw_HDD\"] /avg_HDD\n",
    "d_data"
   ]
  },
  {
   "cell_type": "code",
   "execution_count": 9,
   "id": "6c03921e-2b0c-4006-a933-7d18256d180c",
   "metadata": {},
   "outputs": [
    {
     "data": {
      "text/plain": [
       "{'Lugano': 'Lugano',\n",
       " 'Bellinzona': 'Bellinzona',\n",
       " 'Locarno': 'Locarno',\n",
       " 'Vallemaggia': '',\n",
       " 'Leventina': '',\n",
       " 'Blenio': '',\n",
       " 'Riviera': '',\n",
       " 'Mendrisio': 'Mendrisio'}"
      ]
     },
     "execution_count": 9,
     "metadata": {},
     "output_type": "execute_result"
    }
   ],
   "source": [
    "## NOT USED\n",
    "main_city = [\"Lugano\", \"Bellinzona\", \"Locarno\", \"\", \"\", \"\", \"\", \"Mendrisio\"]\n",
    "district = [\"Lugano\", \"Bellinzona\", \"Locarno\", \"Vallemaggia\", \"Leventina\", \"Blenio\", \"Riviera\", \"Mendrisio\"]\n",
    "dictionary = dict(zip(district, main_city))\n",
    "dictionary"
   ]
  },
  {
   "cell_type": "code",
   "execution_count": 50,
   "id": "c556d239-ceb6-4066-be24-d80697fb244f",
   "metadata": {
    "tags": []
   },
   "outputs": [],
   "source": [
    "# NOT USED\n",
    "def get_lugano_coordinates():\n",
    "    base_url = \"https://api3.geo.admin.ch/rest/services/api/SearchServer\"\n",
    "    params = {\n",
    "        \"searchText\": \"Lugano\",\n",
    "        \"type\": \"locations\",\n",
    "        \"lang\": \"en\",\n",
    "        \"limit\": 1,\n",
    "    }\n",
    "\n",
    "    try:\n",
    "        response = requests.get(base_url, params=params)\n",
    "        response.raise_for_status()  # Check for any request errors\n",
    "        data = response.json()\n",
    "\n",
    "        # Extract longitude and latitude from the first result\n",
    "        if \"results\" in data and len(data[\"results\"]) > 0:\n",
    "            result = data[\"results\"][0]\n",
    "            longitude = result[\"attrs\"][\"lon\"]\n",
    "            latitude = result[\"attrs\"][\"lat\"]\n",
    "            return latitude, longitude\n",
    "        else:\n",
    "            print(\"No results found for Lugano.\")\n",
    "            return None, None\n",
    "\n",
    "    except requests.exceptions.RequestException as e:\n",
    "        print(f\"Error: {e}\")\n",
    "        return None, None"
   ]
  },
  {
   "cell_type": "code",
   "execution_count": 51,
   "id": "ce5b7cf2-05e2-4ca2-ba43-13a1590a4edf",
   "metadata": {
    "tags": []
   },
   "outputs": [],
   "source": [
    "# NOT USED\n",
    "def get_PV_data(latitude, longitude, date_from, date_to):\n",
    "    token = '9acf3a112498265a7b48a57e433e03a12ec1757a' #'your_token_here'\n",
    "    api_base = 'https://www.renewables.ninja/api/'\n",
    "    s = requests.session()\n",
    "    # Send token header with each request\n",
    "    s.headers = {'Authorization': 'Token ' + token}\n",
    "\n",
    "\n",
    "    ##\n",
    "    # PV example\n",
    "    ##\n",
    "\n",
    "    url = api_base + 'data/pv'\n",
    "\n",
    "    args = {\n",
    "        'lat': latitude,\n",
    "        'lon': longitude,\n",
    "        'date_from': date_from,\n",
    "        'date_to': date_to,\n",
    "        'dataset': 'merra2',\n",
    "        'capacity': 1.0,\n",
    "        'system_loss': 0.1,\n",
    "        'tracking': 0,\n",
    "        'tilt': 35,\n",
    "        'azim': 180,\n",
    "        'format': 'json'\n",
    "    }\n",
    "\n",
    "    r = s.get(url, params=args)\n",
    "\n",
    "    # Parse JSON to get a pandas.DataFrame of data and dict of metadata\n",
    "    parsed_response = json.loads(r.text)\n",
    "\n",
    "    data = pd.read_json(json.dumps(parsed_response['data']), orient='index')\n",
    "    metadata = parsed_response['metadata']"
   ]
  },
  {
   "cell_type": "code",
   "execution_count": 12,
   "id": "24402fc7-570b-4a21-a28c-d4e55ade5aa6",
   "metadata": {
    "tags": []
   },
   "outputs": [
    {
     "name": "stdout",
     "output_type": "stream",
     "text": [
      "Lugano coordinates - Latitude: 46.0294303894043, Longitude: 8.988879203796387\n"
     ]
    }
   ],
   "source": [
    "# NOT USED - Get coordinates for lugano and the the PV potenital from energy ninja - WORKS!\n",
    "latitude, longitude = get_lugano_coordinates()\n",
    "\n",
    "if latitude and longitude:\n",
    "    print(f\"Lugano coordinates - Latitude: {latitude}, Longitude: {longitude}\")\n",
    "\n",
    "date_from = '2015-01-01'\n",
    "date_to = '2015-12-31'\n",
    "\n",
    "PV_data = get_PV_data(latitude, longitude, date_from, date_to)"
   ]
  },
  {
   "cell_type": "code",
   "execution_count": 13,
   "id": "5b4ba128-c771-4a30-86cc-d6c0e71a289f",
   "metadata": {
    "tags": []
   },
   "outputs": [],
   "source": [
    "pathlib.Path()\n",
    "NOTEBOOK_PATH = pathlib.Path().resolve()\n",
    "p = NOTEBOOK_PATH.parent\n",
    "DATA_DIRECTORY = p / \"data\"\n",
    "MAP_DIRECTORY = DATA_DIRECTORY /'maps'\n",
    "BLDG_DIRECTORY = DATA_DIRECTORY /'Buildings_rea'\n",
    "CANTON = \"Ticino\"\n",
    "CANTON_CSV_DIRECTORY = BLDG_DIRECTORY / CANTON\n",
    "\n",
    "BELLINZONA_UST = 2101\n",
    "BLENIO_UST = 2102\n",
    "LEVENTINA_UST = 2103\n",
    "LOCARNO_UST = 2104\n",
    "LUGANO_UST = 2105\n",
    "MENDRISIO_UST = 2106\n",
    "RIVIERA_UST = 2107\n",
    "VALLEMAGGIA = 2108\n",
    "\n",
    "sup_file = DATA_DIRECTORY / \"support_data\" \n",
    "# reading population data\n",
    "data_pop = pd.read_excel(sup_file/\"pop_TI.xlsx\", sheet_name = \"pop_c\", header=0) #index_col=0, names = [\"Num_Comune\", \"Nome_Comune\" , \"Stato della popolazione al 31 dicembre\"]"
   ]
  },
  {
   "cell_type": "code",
   "execution_count": 14,
   "id": "be8fd427-cb35-4e6d-bb19-cca2a17b0a95",
   "metadata": {
    "tags": []
   },
   "outputs": [
    {
     "data": {
      "text/html": [
       "<div>\n",
       "<style scoped>\n",
       "    .dataframe tbody tr th:only-of-type {\n",
       "        vertical-align: middle;\n",
       "    }\n",
       "\n",
       "    .dataframe tbody tr th {\n",
       "        vertical-align: top;\n",
       "    }\n",
       "\n",
       "    .dataframe thead th {\n",
       "        text-align: right;\n",
       "    }\n",
       "</style>\n",
       "<table border=\"1\" class=\"dataframe\">\n",
       "  <thead>\n",
       "    <tr style=\"text-align: right;\">\n",
       "      <th></th>\n",
       "      <th>Num_Comune</th>\n",
       "      <th>Nome_Comune</th>\n",
       "      <th>Stato della popolazione  al 1 gennaio</th>\n",
       "      <th>Stato della popolazione al 31 dicembre</th>\n",
       "      <th>Nato vivo</th>\n",
       "      <th>Decesso</th>\n",
       "      <th>Incremento naturale</th>\n",
       "      <th>Immigrazione inclusi i cambiamenti del tipo di popolazione</th>\n",
       "      <th>Arrivo intercantonale</th>\n",
       "      <th>Arrivo intracantonale</th>\n",
       "      <th>Emigrazione</th>\n",
       "      <th>Partenza intercantonale</th>\n",
       "      <th>Partenza intracantonale</th>\n",
       "      <th>Saldo migratorio inclusi i cambiamenti del tipo di popolazione</th>\n",
       "      <th>Cambiamento del tipo di popolazione</th>\n",
       "      <th>Acquisizione della nazionalità svizzera</th>\n",
       "      <th>Divergenza statistica</th>\n",
       "      <th>Variazione</th>\n",
       "      <th>Anno</th>\n",
       "    </tr>\n",
       "  </thead>\n",
       "  <tbody>\n",
       "    <tr>\n",
       "      <th>0</th>\n",
       "      <td>5001</td>\n",
       "      <td>Arbedo-Castione</td>\n",
       "      <td>5057</td>\n",
       "      <td>5024</td>\n",
       "      <td>40</td>\n",
       "      <td>46</td>\n",
       "      <td>-6</td>\n",
       "      <td>68</td>\n",
       "      <td>27</td>\n",
       "      <td>295</td>\n",
       "      <td>52</td>\n",
       "      <td>48</td>\n",
       "      <td>330</td>\n",
       "      <td>-40</td>\n",
       "      <td>16</td>\n",
       "      <td>0</td>\n",
       "      <td>13</td>\n",
       "      <td>-33</td>\n",
       "      <td>2020</td>\n",
       "    </tr>\n",
       "    <tr>\n",
       "      <th>1</th>\n",
       "      <td>5002</td>\n",
       "      <td>Bellinzona</td>\n",
       "      <td>43279</td>\n",
       "      <td>43360</td>\n",
       "      <td>388</td>\n",
       "      <td>491</td>\n",
       "      <td>-103</td>\n",
       "      <td>517</td>\n",
       "      <td>243</td>\n",
       "      <td>1172</td>\n",
       "      <td>343</td>\n",
       "      <td>367</td>\n",
       "      <td>1051</td>\n",
       "      <td>171</td>\n",
       "      <td>130</td>\n",
       "      <td>0</td>\n",
       "      <td>13</td>\n",
       "      <td>81</td>\n",
       "      <td>2020</td>\n",
       "    </tr>\n",
       "    <tr>\n",
       "      <th>2</th>\n",
       "      <td>5003</td>\n",
       "      <td>Cadenazzo</td>\n",
       "      <td>2942</td>\n",
       "      <td>2998</td>\n",
       "      <td>27</td>\n",
       "      <td>12</td>\n",
       "      <td>15</td>\n",
       "      <td>57</td>\n",
       "      <td>33</td>\n",
       "      <td>206</td>\n",
       "      <td>41</td>\n",
       "      <td>28</td>\n",
       "      <td>174</td>\n",
       "      <td>53</td>\n",
       "      <td>9</td>\n",
       "      <td>0</td>\n",
       "      <td>-12</td>\n",
       "      <td>56</td>\n",
       "      <td>2020</td>\n",
       "    </tr>\n",
       "    <tr>\n",
       "      <th>3</th>\n",
       "      <td>5009</td>\n",
       "      <td>Isone</td>\n",
       "      <td>396</td>\n",
       "      <td>395</td>\n",
       "      <td>3</td>\n",
       "      <td>4</td>\n",
       "      <td>-1</td>\n",
       "      <td>4</td>\n",
       "      <td>0</td>\n",
       "      <td>10</td>\n",
       "      <td>0</td>\n",
       "      <td>2</td>\n",
       "      <td>14</td>\n",
       "      <td>-2</td>\n",
       "      <td>1</td>\n",
       "      <td>0</td>\n",
       "      <td>2</td>\n",
       "      <td>-1</td>\n",
       "      <td>2020</td>\n",
       "    </tr>\n",
       "    <tr>\n",
       "      <th>4</th>\n",
       "      <td>5010</td>\n",
       "      <td>Lumino</td>\n",
       "      <td>1571</td>\n",
       "      <td>1587</td>\n",
       "      <td>7</td>\n",
       "      <td>17</td>\n",
       "      <td>-10</td>\n",
       "      <td>20</td>\n",
       "      <td>7</td>\n",
       "      <td>89</td>\n",
       "      <td>4</td>\n",
       "      <td>20</td>\n",
       "      <td>60</td>\n",
       "      <td>32</td>\n",
       "      <td>3</td>\n",
       "      <td>0</td>\n",
       "      <td>-6</td>\n",
       "      <td>16</td>\n",
       "      <td>2020</td>\n",
       "    </tr>\n",
       "  </tbody>\n",
       "</table>\n",
       "</div>"
      ],
      "text/plain": [
       "   Num_Comune      Nome_Comune  Stato della popolazione  al 1 gennaio   \n",
       "0        5001  Arbedo-Castione                                   5057  \\\n",
       "1        5002       Bellinzona                                  43279   \n",
       "2        5003        Cadenazzo                                   2942   \n",
       "3        5009            Isone                                    396   \n",
       "4        5010           Lumino                                   1571   \n",
       "\n",
       "   Stato della popolazione al 31 dicembre  Nato vivo  Decesso   \n",
       "0                                    5024         40       46  \\\n",
       "1                                   43360        388      491   \n",
       "2                                    2998         27       12   \n",
       "3                                     395          3        4   \n",
       "4                                    1587          7       17   \n",
       "\n",
       "   Incremento naturale   \n",
       "0                   -6  \\\n",
       "1                 -103   \n",
       "2                   15   \n",
       "3                   -1   \n",
       "4                  -10   \n",
       "\n",
       "   Immigrazione inclusi i cambiamenti del tipo di popolazione   \n",
       "0                                                 68           \\\n",
       "1                                                517            \n",
       "2                                                 57            \n",
       "3                                                  4            \n",
       "4                                                 20            \n",
       "\n",
       "   Arrivo intercantonale  Arrivo intracantonale  Emigrazione   \n",
       "0                     27                    295           52  \\\n",
       "1                    243                   1172          343   \n",
       "2                     33                    206           41   \n",
       "3                      0                     10            0   \n",
       "4                      7                     89            4   \n",
       "\n",
       "   Partenza intercantonale  Partenza intracantonale   \n",
       "0                       48                      330  \\\n",
       "1                      367                     1051   \n",
       "2                       28                      174   \n",
       "3                        2                       14   \n",
       "4                       20                       60   \n",
       "\n",
       "   Saldo migratorio inclusi i cambiamenti del tipo di popolazione   \n",
       "0                                                -40               \\\n",
       "1                                                171                \n",
       "2                                                 53                \n",
       "3                                                 -2                \n",
       "4                                                 32                \n",
       "\n",
       "   Cambiamento del tipo di popolazione   \n",
       "0                                   16  \\\n",
       "1                                  130   \n",
       "2                                    9   \n",
       "3                                    1   \n",
       "4                                    3   \n",
       "\n",
       "   Acquisizione della nazionalità svizzera  Divergenza statistica  Variazione   \n",
       "0                                        0                     13         -33  \\\n",
       "1                                        0                     13          81   \n",
       "2                                        0                    -12          56   \n",
       "3                                        0                      2          -1   \n",
       "4                                        0                     -6          16   \n",
       "\n",
       "   Anno  \n",
       "0  2020  \n",
       "1  2020  \n",
       "2  2020  \n",
       "3  2020  \n",
       "4  2020  "
      ]
     },
     "execution_count": 14,
     "metadata": {},
     "output_type": "execute_result"
    }
   ],
   "source": [
    "data_pop.head()"
   ]
  },
  {
   "cell_type": "code",
   "execution_count": 15,
   "id": "d891ad64-4c22-44bf-ae48-a71561e5a6e6",
   "metadata": {
    "tags": []
   },
   "outputs": [
    {
     "data": {
      "text/html": [
       "<div>\n",
       "<style scoped>\n",
       "    .dataframe tbody tr th:only-of-type {\n",
       "        vertical-align: middle;\n",
       "    }\n",
       "\n",
       "    .dataframe tbody tr th {\n",
       "        vertical-align: top;\n",
       "    }\n",
       "\n",
       "    .dataframe thead th {\n",
       "        text-align: right;\n",
       "    }\n",
       "</style>\n",
       "<table border=\"1\" class=\"dataframe\">\n",
       "  <thead>\n",
       "    <tr style=\"text-align: right;\">\n",
       "      <th></th>\n",
       "      <th>Num_Comune</th>\n",
       "      <th>Nome_Comune</th>\n",
       "      <th>Stato della popolazione al 31 dicembre</th>\n",
       "    </tr>\n",
       "  </thead>\n",
       "  <tbody>\n",
       "    <tr>\n",
       "      <th>0</th>\n",
       "      <td>5001</td>\n",
       "      <td>Arbedo-Castione</td>\n",
       "      <td>5024</td>\n",
       "    </tr>\n",
       "    <tr>\n",
       "      <th>1</th>\n",
       "      <td>5002</td>\n",
       "      <td>Bellinzona</td>\n",
       "      <td>43360</td>\n",
       "    </tr>\n",
       "    <tr>\n",
       "      <th>2</th>\n",
       "      <td>5003</td>\n",
       "      <td>Cadenazzo</td>\n",
       "      <td>2998</td>\n",
       "    </tr>\n",
       "    <tr>\n",
       "      <th>3</th>\n",
       "      <td>5009</td>\n",
       "      <td>Isone</td>\n",
       "      <td>395</td>\n",
       "    </tr>\n",
       "    <tr>\n",
       "      <th>4</th>\n",
       "      <td>5010</td>\n",
       "      <td>Lumino</td>\n",
       "      <td>1587</td>\n",
       "    </tr>\n",
       "    <tr>\n",
       "      <th>...</th>\n",
       "      <td>...</td>\n",
       "      <td>...</td>\n",
       "      <td>...</td>\n",
       "    </tr>\n",
       "    <tr>\n",
       "      <th>103</th>\n",
       "      <td>5324</td>\n",
       "      <td>Avegno Gordevio</td>\n",
       "      <td>1516</td>\n",
       "    </tr>\n",
       "    <tr>\n",
       "      <th>104</th>\n",
       "      <td>5396</td>\n",
       "      <td>Terre di Pedemonte</td>\n",
       "      <td>2627</td>\n",
       "    </tr>\n",
       "    <tr>\n",
       "      <th>105</th>\n",
       "      <td>5397</td>\n",
       "      <td>Centovalli</td>\n",
       "      <td>1135</td>\n",
       "    </tr>\n",
       "    <tr>\n",
       "      <th>106</th>\n",
       "      <td>5398</td>\n",
       "      <td>Gambarogno</td>\n",
       "      <td>5163</td>\n",
       "    </tr>\n",
       "    <tr>\n",
       "      <th>107</th>\n",
       "      <td>5399</td>\n",
       "      <td>Verzasca</td>\n",
       "      <td>799</td>\n",
       "    </tr>\n",
       "  </tbody>\n",
       "</table>\n",
       "<p>108 rows × 3 columns</p>\n",
       "</div>"
      ],
      "text/plain": [
       "     Num_Comune         Nome_Comune  Stato della popolazione al 31 dicembre\n",
       "0          5001     Arbedo-Castione                                    5024\n",
       "1          5002          Bellinzona                                   43360\n",
       "2          5003           Cadenazzo                                    2998\n",
       "3          5009               Isone                                     395\n",
       "4          5010              Lumino                                    1587\n",
       "..          ...                 ...                                     ...\n",
       "103        5324     Avegno Gordevio                                    1516\n",
       "104        5396  Terre di Pedemonte                                    2627\n",
       "105        5397          Centovalli                                    1135\n",
       "106        5398          Gambarogno                                    5163\n",
       "107        5399            Verzasca                                     799\n",
       "\n",
       "[108 rows x 3 columns]"
      ]
     },
     "execution_count": 15,
     "metadata": {},
     "output_type": "execute_result"
    }
   ],
   "source": [
    "data_pop = data_pop[[\"Num_Comune\", \"Nome_Comune\" , \"Stato della popolazione al 31 dicembre\"]]\n",
    "data_pop"
   ]
  },
  {
   "cell_type": "code",
   "execution_count": 16,
   "id": "21627ff8-58f3-4cbd-956d-45cf9eea2e70",
   "metadata": {
    "tags": []
   },
   "outputs": [
    {
     "data": {
      "text/html": [
       "<div>\n",
       "<style scoped>\n",
       "    .dataframe tbody tr th:only-of-type {\n",
       "        vertical-align: middle;\n",
       "    }\n",
       "\n",
       "    .dataframe tbody tr th {\n",
       "        vertical-align: top;\n",
       "    }\n",
       "\n",
       "    .dataframe thead th {\n",
       "        text-align: right;\n",
       "    }\n",
       "</style>\n",
       "<table border=\"1\" class=\"dataframe\">\n",
       "  <thead>\n",
       "    <tr style=\"text-align: right;\">\n",
       "      <th></th>\n",
       "      <th>Num_Comune</th>\n",
       "      <th>Nome_Comune</th>\n",
       "      <th>Stato della popolazione al 31 dicembre</th>\n",
       "    </tr>\n",
       "  </thead>\n",
       "  <tbody>\n",
       "    <tr>\n",
       "      <th>0</th>\n",
       "      <td>5048</td>\n",
       "      <td>Acquarossa</td>\n",
       "      <td>1807</td>\n",
       "    </tr>\n",
       "    <tr>\n",
       "      <th>1</th>\n",
       "      <td>5049</td>\n",
       "      <td>Blenio</td>\n",
       "      <td>1770</td>\n",
       "    </tr>\n",
       "    <tr>\n",
       "      <th>2</th>\n",
       "      <td>5050</td>\n",
       "      <td>Serravalle</td>\n",
       "      <td>2079</td>\n",
       "    </tr>\n",
       "  </tbody>\n",
       "</table>\n",
       "</div>"
      ],
      "text/plain": [
       "   Num_Comune Nome_Comune  Stato della popolazione al 31 dicembre\n",
       "0        5048  Acquarossa                                    1807\n",
       "1        5049      Blenio                                    1770\n",
       "2        5050  Serravalle                                    2079"
      ]
     },
     "execution_count": 16,
     "metadata": {},
     "output_type": "execute_result"
    }
   ],
   "source": [
    "UST_file = \"UST_comune.csv\"\n",
    "canton =\"TI\"\n",
    "UST_comune = pd.read_csv(MAP_DIRECTORY/UST_file)\n",
    "UST_comune = UST_comune[UST_comune['Cantone'] == canton].reset_index()\n",
    "UST_district = UST_comune['Numero del Distretto'].drop_duplicates().reset_index(drop=True)\n",
    "dis_num = BLENIO_UST\n",
    "#for dis_num in UST_district:\n",
    "communes = UST_comune.loc[UST_comune[\"Numero del Distretto\"] == dis_num, \"Numero UST del Comune\"]    \n",
    "DISTRICT = str(UST_comune.loc[(UST_comune[\"Numero del Distretto\"] == dis_num), \"Nome del Distretto\"].iloc[0])\n",
    "com_pop = data_pop[data_pop[\"Num_Comune\"].isin(communes)]# GGDENR Numéro OFS de la commune district_limits[district_limits['NAME'].isin(TI_districts)]\n",
    "com_pop = com_pop.reset_index(drop =True)\n",
    "\n",
    "com_pop"
   ]
  },
  {
   "cell_type": "code",
   "execution_count": 17,
   "id": "89bebbec-9482-4002-b101-5ac457aed93d",
   "metadata": {
    "tags": []
   },
   "outputs": [
    {
     "data": {
      "text/html": [
       "<div>\n",
       "<style scoped>\n",
       "    .dataframe tbody tr th:only-of-type {\n",
       "        vertical-align: middle;\n",
       "    }\n",
       "\n",
       "    .dataframe tbody tr th {\n",
       "        vertical-align: top;\n",
       "    }\n",
       "\n",
       "    .dataframe thead th {\n",
       "        text-align: right;\n",
       "    }\n",
       "</style>\n",
       "<table border=\"1\" class=\"dataframe\">\n",
       "  <thead>\n",
       "    <tr style=\"text-align: right;\">\n",
       "      <th></th>\n",
       "      <th>Num_Comune</th>\n",
       "      <th>Nome_Comune</th>\n",
       "      <th>Stato della popolazione al 31 dicembre</th>\n",
       "      <th>percent of disrict pop</th>\n",
       "    </tr>\n",
       "  </thead>\n",
       "  <tbody>\n",
       "    <tr>\n",
       "      <th>0</th>\n",
       "      <td>5048</td>\n",
       "      <td>Acquarossa</td>\n",
       "      <td>1807</td>\n",
       "      <td>0.32</td>\n",
       "    </tr>\n",
       "    <tr>\n",
       "      <th>1</th>\n",
       "      <td>5049</td>\n",
       "      <td>Blenio</td>\n",
       "      <td>1770</td>\n",
       "      <td>0.31</td>\n",
       "    </tr>\n",
       "    <tr>\n",
       "      <th>2</th>\n",
       "      <td>5050</td>\n",
       "      <td>Serravalle</td>\n",
       "      <td>2079</td>\n",
       "      <td>0.37</td>\n",
       "    </tr>\n",
       "  </tbody>\n",
       "</table>\n",
       "</div>"
      ],
      "text/plain": [
       "   Num_Comune Nome_Comune  Stato della popolazione al 31 dicembre   \n",
       "0        5048  Acquarossa                                    1807  \\\n",
       "1        5049      Blenio                                    1770   \n",
       "2        5050  Serravalle                                    2079   \n",
       "\n",
       "   percent of disrict pop  \n",
       "0                    0.32  \n",
       "1                    0.31  \n",
       "2                    0.37  "
      ]
     },
     "execution_count": 17,
     "metadata": {},
     "output_type": "execute_result"
    }
   ],
   "source": [
    "d_pop = com_pop[\"Stato della popolazione al 31 dicembre\"].sum()\n",
    "com_pop[\"percent of disrict pop\"] = round((com_pop[\"Stato della popolazione al 31 dicembre\"]/d_pop),2)\n",
    "com_pop"
   ]
  },
  {
   "cell_type": "code",
   "execution_count": 18,
   "id": "2be846da-813e-428e-9acf-eba8cb87a271",
   "metadata": {
    "tags": []
   },
   "outputs": [],
   "source": [
    "#API_URL = \"https://api.open-meteo.com/v1/forecast\"\n",
    "API_URL = \"https://archive-api.open-meteo.com/v1/archive?\"\n",
    "#LOCATION = \"Lugano,CH\"\n",
    "START_DATE = \"2020-01-01\"\n",
    "END_DATE = \"2020-12-31\"\n",
    "\n",
    "# Parameters for the API request\n",
    "params = {\n",
    "    \"latitude\": 46.005978,\n",
    "    \"longitude\": 8.952455,\n",
    "    \"hourly\": \"temperature_2m\",\n",
    "    \"start_date\": START_DATE,\n",
    "    \"end_date\": END_DATE,\n",
    "    \"model\": \"gfs\",\n",
    "    \"timezone\": \"Europe/Zurich\"\n",
    "}\n",
    "\n",
    "response = requests.get(API_URL, params=params)"
   ]
  },
  {
   "cell_type": "code",
   "execution_count": 19,
   "id": "bfd62eb8-76a5-4f63-b8ee-ece00b7586f9",
   "metadata": {
    "tags": []
   },
   "outputs": [
    {
     "data": {
      "text/html": [
       "<div>\n",
       "<style scoped>\n",
       "    .dataframe tbody tr th:only-of-type {\n",
       "        vertical-align: middle;\n",
       "    }\n",
       "\n",
       "    .dataframe tbody tr th {\n",
       "        vertical-align: top;\n",
       "    }\n",
       "\n",
       "    .dataframe thead th {\n",
       "        text-align: right;\n",
       "    }\n",
       "</style>\n",
       "<table border=\"1\" class=\"dataframe\">\n",
       "  <thead>\n",
       "    <tr style=\"text-align: right;\">\n",
       "      <th></th>\n",
       "      <th>index</th>\n",
       "      <th>latitude</th>\n",
       "      <th>longitude</th>\n",
       "      <th>generationtime_ms</th>\n",
       "      <th>utc_offset_seconds</th>\n",
       "      <th>timezone</th>\n",
       "      <th>timezone_abbreviation</th>\n",
       "      <th>elevation</th>\n",
       "      <th>hourly_units</th>\n",
       "      <th>hourly</th>\n",
       "    </tr>\n",
       "  </thead>\n",
       "  <tbody>\n",
       "    <tr>\n",
       "      <th>0</th>\n",
       "      <td>time</td>\n",
       "      <td>45.90001</td>\n",
       "      <td>8.900009</td>\n",
       "      <td>0.483036</td>\n",
       "      <td>7200</td>\n",
       "      <td>Europe/Zurich</td>\n",
       "      <td>CEST</td>\n",
       "      <td>284.0</td>\n",
       "      <td>iso8601</td>\n",
       "      <td>[2020-01-01T00:00, 2020-01-01T01:00, 2020-01-0...</td>\n",
       "    </tr>\n",
       "    <tr>\n",
       "      <th>1</th>\n",
       "      <td>temperature_2m</td>\n",
       "      <td>45.90001</td>\n",
       "      <td>8.900009</td>\n",
       "      <td>0.483036</td>\n",
       "      <td>7200</td>\n",
       "      <td>Europe/Zurich</td>\n",
       "      <td>CEST</td>\n",
       "      <td>284.0</td>\n",
       "      <td>°C</td>\n",
       "      <td>[5.8, 5.6, 5.2, 4.8, 4.4, 4.2, 4.0, 4.1, 4.2, ...</td>\n",
       "    </tr>\n",
       "  </tbody>\n",
       "</table>\n",
       "</div>"
      ],
      "text/plain": [
       "            index  latitude  longitude  generationtime_ms  utc_offset_seconds   \n",
       "0            time  45.90001   8.900009           0.483036                7200  \\\n",
       "1  temperature_2m  45.90001   8.900009           0.483036                7200   \n",
       "\n",
       "        timezone timezone_abbreviation  elevation hourly_units   \n",
       "0  Europe/Zurich                  CEST      284.0      iso8601  \\\n",
       "1  Europe/Zurich                  CEST      284.0           °C   \n",
       "\n",
       "                                              hourly  \n",
       "0  [2020-01-01T00:00, 2020-01-01T01:00, 2020-01-0...  \n",
       "1  [5.8, 5.6, 5.2, 4.8, 4.4, 4.2, 4.0, 4.1, 4.2, ...  "
      ]
     },
     "execution_count": 19,
     "metadata": {},
     "output_type": "execute_result"
    }
   ],
   "source": [
    "temp = json.loads(response.text)\n",
    "#print(temp)\n",
    "\n",
    "temp_2 = pd.DataFrame.from_dict(temp)\n",
    "temp_2.reset_index(inplace=True) #drop=True\n",
    "temp_2"
   ]
  },
  {
   "cell_type": "code",
   "execution_count": 20,
   "id": "d0670b4b-0b5e-4613-90a6-b297cabd7ed4",
   "metadata": {
    "tags": []
   },
   "outputs": [
    {
     "data": {
      "text/html": [
       "<div>\n",
       "<style scoped>\n",
       "    .dataframe tbody tr th:only-of-type {\n",
       "        vertical-align: middle;\n",
       "    }\n",
       "\n",
       "    .dataframe tbody tr th {\n",
       "        vertical-align: top;\n",
       "    }\n",
       "\n",
       "    .dataframe thead th {\n",
       "        text-align: right;\n",
       "    }\n",
       "</style>\n",
       "<table border=\"1\" class=\"dataframe\">\n",
       "  <thead>\n",
       "    <tr style=\"text-align: right;\">\n",
       "      <th></th>\n",
       "      <th>Lugano_temperature_2m</th>\n",
       "    </tr>\n",
       "    <tr>\n",
       "      <th>time</th>\n",
       "      <th></th>\n",
       "    </tr>\n",
       "  </thead>\n",
       "  <tbody>\n",
       "    <tr>\n",
       "      <th>2020-01-01 00:00:00</th>\n",
       "      <td>5.8</td>\n",
       "    </tr>\n",
       "    <tr>\n",
       "      <th>2020-01-01 01:00:00</th>\n",
       "      <td>5.6</td>\n",
       "    </tr>\n",
       "    <tr>\n",
       "      <th>2020-01-01 02:00:00</th>\n",
       "      <td>5.2</td>\n",
       "    </tr>\n",
       "    <tr>\n",
       "      <th>2020-01-01 03:00:00</th>\n",
       "      <td>4.8</td>\n",
       "    </tr>\n",
       "    <tr>\n",
       "      <th>2020-01-01 04:00:00</th>\n",
       "      <td>4.4</td>\n",
       "    </tr>\n",
       "    <tr>\n",
       "      <th>...</th>\n",
       "      <td>...</td>\n",
       "    </tr>\n",
       "    <tr>\n",
       "      <th>2020-12-31 19:00:00</th>\n",
       "      <td>1.8</td>\n",
       "    </tr>\n",
       "    <tr>\n",
       "      <th>2020-12-31 20:00:00</th>\n",
       "      <td>2.2</td>\n",
       "    </tr>\n",
       "    <tr>\n",
       "      <th>2020-12-31 21:00:00</th>\n",
       "      <td>2.3</td>\n",
       "    </tr>\n",
       "    <tr>\n",
       "      <th>2020-12-31 22:00:00</th>\n",
       "      <td>2.8</td>\n",
       "    </tr>\n",
       "    <tr>\n",
       "      <th>2020-12-31 23:00:00</th>\n",
       "      <td>2.8</td>\n",
       "    </tr>\n",
       "  </tbody>\n",
       "</table>\n",
       "<p>8784 rows × 1 columns</p>\n",
       "</div>"
      ],
      "text/plain": [
       "                     Lugano_temperature_2m\n",
       "time                                      \n",
       "2020-01-01 00:00:00                    5.8\n",
       "2020-01-01 01:00:00                    5.6\n",
       "2020-01-01 02:00:00                    5.2\n",
       "2020-01-01 03:00:00                    4.8\n",
       "2020-01-01 04:00:00                    4.4\n",
       "...                                    ...\n",
       "2020-12-31 19:00:00                    1.8\n",
       "2020-12-31 20:00:00                    2.2\n",
       "2020-12-31 21:00:00                    2.3\n",
       "2020-12-31 22:00:00                    2.8\n",
       "2020-12-31 23:00:00                    2.8\n",
       "\n",
       "[8784 rows x 1 columns]"
      ]
     },
     "execution_count": 20,
     "metadata": {},
     "output_type": "execute_result"
    }
   ],
   "source": [
    "weather = pd.DataFrame()\n",
    "column_name = \"Lugano_\" + \"temperature_2m\"\n",
    "weather[\"time\"] = temp_2.at[0, \"hourly\"]\n",
    "weather[column_name] = temp_2.at[1, \"hourly\"]\n",
    "weather.set_index(\"time\", inplace=True)\n",
    "weather.index = pd.to_datetime(weather.index)\n",
    "weather"
   ]
  },
  {
   "cell_type": "code",
   "execution_count": 21,
   "id": "7973cc55-c2a2-4ffb-b4c4-003befd3d33d",
   "metadata": {
    "tags": []
   },
   "outputs": [
    {
     "data": {
      "text/plain": [
       "Lugano_temperature_2m    2051.354167\n",
       "dtype: float64"
      ]
     },
     "execution_count": 21,
     "metadata": {},
     "output_type": "execute_result"
    }
   ],
   "source": [
    "# Reference temperature (in Celsius)\n",
    "reference_temperature = 20\n",
    "\n",
    "# Calculate daily average temperature\n",
    "daily_average_temperature = weather.resample('D').mean()\n",
    "\n",
    "HDD_df = daily_average_temperature[daily_average_temperature[\"Lugano_temperature_2m\"] <= 12]\n",
    "# Calculate Heating Degree Days\n",
    "HDD = (reference_temperature - HDD_df) #.clip(lower=0)\n",
    "HDD_tot = HDD.sum()\n",
    "HDD_tot"
   ]
  },
  {
   "cell_type": "code",
   "execution_count": 23,
   "id": "ee07a7e7-5a58-40fb-9ef0-d716e2a728cf",
   "metadata": {
    "tags": []
   },
   "outputs": [
    {
     "data": {
      "text/plain": [
       "<Axes: xlabel='time'>"
      ]
     },
     "execution_count": 23,
     "metadata": {},
     "output_type": "execute_result"
    },
    {
     "data": {
      "image/png": "[encoded data removed]",
      "text/plain": [
       "<Figure size 640x480 with 1 Axes>"
      ]
     },
     "metadata": {},
     "output_type": "display_data"
    }
   ],
   "source": [
    "daily_average_temperature.plot()"
   ]
  },
  {
   "cell_type": "code",
   "execution_count": 24,
   "id": "46200157-b935-45e2-b453-05592f972d46",
   "metadata": {
    "tags": []
   },
   "outputs": [
    {
     "name": "stdout",
     "output_type": "stream",
     "text": [
      "coordinates - Latitude: 46.55192947387695, Longitude: 8.901261329650879\n"
     ]
    }
   ],
   "source": [
    "comune = \"Blenio\"\n",
    "latitude, longitude = get_coordinates(comune)\n",
    "\n",
    "if latitude and longitude:\n",
    "    print(f\"coordinates - Latitude: {latitude}, Longitude: {longitude}\")"
   ]
  },
  {
   "cell_type": "code",
   "execution_count": null,
   "id": "699e27e5-d950-48f7-a0e4-7f1ec3f0c746",
   "metadata": {},
   "outputs": [],
   "source": []
  }
 ],
 "metadata": {
  "kernelspec": {
   "display_name": "Python 3 (ipykernel)",
   "language": "python",
   "name": "python3"
  },
  "language_info": {
   "codemirror_mode": {
    "name": "ipython",
    "version": 3
   },
   "file_extension": ".py",
   "mimetype": "text/x-python",
   "name": "python",
   "nbconvert_exporter": "python",
   "pygments_lexer": "ipython3",
   "version": "3.9.13"
  }
 },
 "nbformat": 4,
 "nbformat_minor": 5
}
