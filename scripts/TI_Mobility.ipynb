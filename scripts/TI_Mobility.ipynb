{
 "cells": [
  {
   "cell_type": "code",
   "execution_count": 1,
   "id": "2ccc5a38-9ac7-4a03-928f-fb8183343ec1",
   "metadata": {
    "tags": []
   },
   "outputs": [],
   "source": [
    "import pandas as pd\n",
    "import argparse\n",
    "import logging\n",
    "import json\n",
    "import os\n",
    "import pathlib\n",
    "import fiona\n",
    "import numpy as np\n",
    "import geopandas as gpd\n",
    "from shapely.geometry.polygon import Polygon\n",
    "from shapely.geometry.multipolygon import MultiPolygon\n",
    "from geopandas.tools import geocode\n",
    "from shapely.geometry import Point\n",
    "import requests\n",
    "from zipfile import ZipFile\n",
    "from tqdm import trange, tqdm"
   ]
  },
  {
   "cell_type": "code",
   "execution_count": 4,
   "id": "0b176d72-63a7-427a-aac3-2b051cd027c4",
   "metadata": {
    "tags": []
   },
   "outputs": [],
   "source": [
    "AVG_KMPERYEAR_AUTOMOBILI = 12730 #REF\n",
    "AVG_KMPERYEAR_AUTOMOBILI_HYB = 12730 #REF\n",
    "AVG_KMPERYEAR_AUTOVEICOLILEGERI = 14329 #REF\n",
    "AVG_KMPERYEAR_MOTOVEICOLI = 10000 #REF\n",
    "AVG_KMPERYEAR_MOTOLEGGERE = 5000 #REF\n",
    "\n",
    "AVG_LPERKM_AUTOMOBILI = 0.093\n",
    "AVG_LPERKM_AUTOMOBILI_HYB = 0.065\n",
    "AVG_LPERKM_AUTOVEICOLILEGERI = 0.131\n",
    "AVG_LPERKM_MOTOVEICOLI = 0.04\n",
    "AVG_LPERKM_MOTOLEGGERE = 0.018\n",
    "\n",
    "pathlib.Path()\n",
    "NOTEBOOK_PATH = pathlib.Path().resolve()\n",
    "p = NOTEBOOK_PATH.parent\n",
    "DATA_DIRECTORY = p / \"data\"\n",
    "MOBILITY_DIRECTORY = DATA_DIRECTORY /'mobility'"
   ]
  },
  {
   "cell_type": "code",
   "execution_count": 45,
   "id": "a4d5dab7-53d6-44c8-811a-99b27a7cda29",
   "metadata": {
    "tags": []
   },
   "outputs": [],
   "source": [
    "mobility_file = \"TI_mobility_stats.csv\"\n",
    "\n",
    "mobility_num = pd.read_csv(MOBILITY_DIRECTORY/mobility_file).set_index(\"District\")\n",
    "#mobility_num = pd.read_csv(MOBILITY_DIRECTORY/mobility_file)\n",
    "\n",
    "Automobili = mobility_num[\"Automobili\"]\n",
    "Automobili_pkm = Automobili*AVG_KMPERYEAR_AUTOMOBILI\n",
    "\n",
    "Motoveicoli = mobility_num[\"Motoveicoli\"]\n",
    "Motoveicoli_pkm = Motoveicoli*AVG_KMPERYEAR_MOTOVEICOLI\n",
    "\n",
    "Motoleggere = mobility_num[\"Motoveicoli\"]\n",
    "Motoleggere_pkm = Motoveicoli*AVG_KMPERYEAR_MOTOLEGGERE\n"
   ]
  },
  {
   "cell_type": "code",
   "execution_count": 41,
   "id": "e4acd087-3743-4d54-a61d-98f881622d80",
   "metadata": {
    "tags": []
   },
   "outputs": [
    {
     "data": {
      "text/plain": [
       "District\n",
       "Mendrisio       427295180\n",
       "Lugano         1225899000\n",
       "Locarno         486540600\n",
       "Vallemaggia      47177380\n",
       "Bellinzona      435926120\n",
       "Riviera          85265540\n",
       "Blenio           47941180\n",
       "Leventina        74992430\n",
       "Name: Automobili, dtype: int64"
      ]
     },
     "execution_count": 41,
     "metadata": {},
     "output_type": "execute_result"
    }
   ],
   "source": [
    "Automobili_pkm"
   ]
  },
  {
   "cell_type": "code",
   "execution_count": 32,
   "id": "3754db3f-aee7-47ea-af6d-94d1564e9918",
   "metadata": {
    "tags": []
   },
   "outputs": [],
   "source": [
    "TI_carburant_file = \"TI_anno_carburante.csv\"\n",
    "Automobility_carburanti = pd.read_csv(MOBILITY_DIRECTORY/TI_carburant_file).set_index(\"Carburant\")"
   ]
  },
  {
   "cell_type": "code",
   "execution_count": 33,
   "id": "43a9aeb4-fab4-4103-9acb-f0c35138c307",
   "metadata": {
    "tags": []
   },
   "outputs": [],
   "source": [
    "Automobility_carburanti_2020 = Automobility_carburanti['2020']\n",
    "Automobility_sum_2020 = Automobility_carburanti_2020.sum()"
   ]
  },
  {
   "cell_type": "code",
   "execution_count": 34,
   "id": "f8002a6a-e6d2-44d2-8819-f4b97b9d485b",
   "metadata": {
    "tags": []
   },
   "outputs": [
    {
     "name": "stdout",
     "output_type": "stream",
     "text": [
      "Carburant\n",
      "Essence                                     148394\n",
      "Diesel                                       63454\n",
      "Essence-electrique: hybride normal            6274\n",
      "Essence-electrique: hybride rechargeable      1305\n",
      "Diesel-electrique: hybride normal              610\n",
      "Diesel-electrique: hybride rechargeable         38\n",
      "Electrique                                    1689\n",
      "Hydrogene                                        0\n",
      "Gaz (monovalent et bivalent)                   558\n",
      "Autre                                           69\n",
      "Name: 2020, dtype: int64 sum = 222391\n"
     ]
    }
   ],
   "source": [
    "print(Automobility_carburanti_2020, \"sum =\", Automobility_sum_2020)"
   ]
  },
  {
   "cell_type": "code",
   "execution_count": 35,
   "id": "8c123f01-87ee-4cc3-beed-87fa718ae0f8",
   "metadata": {
    "tags": []
   },
   "outputs": [],
   "source": [
    "Automobility_carburanti_2020_share = Automobility_carburanti_2020/Automobility_sum_2020"
   ]
  },
  {
   "cell_type": "code",
   "execution_count": 36,
   "id": "e8a01ef8-daed-44a3-af6d-ba14ece41472",
   "metadata": {
    "tags": []
   },
   "outputs": [
    {
     "data": {
      "text/plain": [
       "Carburant\n",
       "Essence                                     0.667266\n",
       "Diesel                                      0.285326\n",
       "Essence-electrique: hybride normal          0.028212\n",
       "Essence-electrique: hybride rechargeable    0.005868\n",
       "Diesel-electrique: hybride normal           0.002743\n",
       "Diesel-electrique: hybride rechargeable     0.000171\n",
       "Electrique                                  0.007595\n",
       "Hydrogene                                   0.000000\n",
       "Gaz (monovalent et bivalent)                0.002509\n",
       "Autre                                       0.000310\n",
       "Name: 2020, dtype: float64"
      ]
     },
     "execution_count": 36,
     "metadata": {},
     "output_type": "execute_result"
    }
   ],
   "source": [
    "Automobility_carburanti_2020_share.to_csv(\"test.csv\")\n",
    "Automobility_carburanti_2020_share"
   ]
  },
  {
   "cell_type": "code",
   "execution_count": 56,
   "id": "184a12bf-c471-4b86-a1c7-340cca11daff",
   "metadata": {
    "tags": []
   },
   "outputs": [],
   "source": [
    "Auto_pkm_carburant = pd.DataFrame()\n",
    "\n",
    "for dis in range(len(Automobili_pkm)):\n",
    "    pkm_carb = Automobili_pkm.iloc[dis]*Automobility_carburanti_2020_share\n",
    "    Auto_pkm_carburant=  pd.concat([Auto_pkm_carburant, pkm_carb], axis=1)\n",
    "\n",
    "Auto_pkm_carburant = Auto_pkm_carburant.T\n",
    "Auto_pkm_carburant[\"District\"] = Automobili_pkm.index\n",
    "Auto_pkm_carburant = Auto_pkm_carburant.set_index(\"District\", drop = True)\n",
    "Auto_pkm_carburant.to_csv(\"private_mobility_pkm_per_carb.csv\")"
   ]
  },
  {
   "cell_type": "code",
   "execution_count": null,
   "id": "31b831ab-10a4-4fe4-b0fb-e041002c1528",
   "metadata": {},
   "outputs": [],
   "source": []
  }
 ],
 "metadata": {
  "kernelspec": {
   "display_name": "Python 3 (ipykernel)",
   "language": "python",
   "name": "python3"
  },
  "language_info": {
   "codemirror_mode": {
    "name": "ipython",
    "version": 3
   },
   "file_extension": ".py",
   "mimetype": "text/x-python",
   "name": "python",
   "nbconvert_exporter": "python",
   "pygments_lexer": "ipython3",
   "version": "3.9.13"
  }
 },
 "nbformat": 4,
 "nbformat_minor": 5
}
