{
 "cells": [
  {
   "cell_type": "code",
   "execution_count": 1,
   "id": "2ccc5a38-9ac7-4a03-928f-fb8183343ec1",
   "metadata": {
    "tags": []
   },
   "outputs": [],
   "source": [
    "import pandas as pd\n",
    "import argparse\n",
    "import logging\n",
    "import json\n",
    "import os\n",
    "import pathlib\n",
    "import fiona\n",
    "import numpy as np\n",
    "import geopandas as gpd\n",
    "from shapely.geometry.polygon import Polygon\n",
    "from shapely.geometry.multipolygon import MultiPolygon\n",
    "from geopandas.tools import geocode\n",
    "from shapely.geometry import Point\n",
    "import requests\n",
    "from zipfile import ZipFile\n",
    "from tqdm import trange, tqdm"
   ]
  },
  {
   "cell_type": "code",
   "execution_count": 2,
   "id": "0b176d72-63a7-427a-aac3-2b051cd027c4",
   "metadata": {
    "tags": []
   },
   "outputs": [],
   "source": [
    "AVG_KMPERYEAR_AUTOMOBILI = 12730 #REF\n",
    "AVG_KMPERYEAR_AUTOMOBILI_HYB = 12730 #REF\n",
    "AVG_KMPERYEAR_AUTOVEICOLILEGERI = 14329 #REF\n",
    "AVG_KMPERYEAR_MOTOVEICOLI = 10000 #REF\n",
    "AVG_KMPERYEAR_MOTOLEGGERE = 5000 #REF\n",
    "\n",
    "AVG_LPERKM_AUTOMOBILI = 0.093\n",
    "AVG_LPERKM_AUTOMOBILI_HYB = 0.065\n",
    "AVG_LPERKM_AUTOVEICOLILEGERI = 0.131\n",
    "AVG_LPERKM_MOTOVEICOLI = 0.04\n",
    "AVG_LPERKM_MOTOLEGGERE = 0.018\n",
    "\n",
    "pathlib.Path()\n",
    "NOTEBOOK_PATH = pathlib.Path().resolve()\n",
    "p = NOTEBOOK_PATH.parent\n",
    "DATA_DIRECTORY = p / \"data\"\n",
    "MOBILITY_DIRECTORY = DATA_DIRECTORY /'mobility'"
   ]
  },
  {
   "cell_type": "code",
   "execution_count": 3,
   "id": "a4d5dab7-53d6-44c8-811a-99b27a7cda29",
   "metadata": {
    "tags": []
   },
   "outputs": [],
   "source": [
    "mobility_file = \"TI_mobility_stats.csv\"\n",
    "\n",
    "mobility_num = pd.read_csv(MOBILITY_DIRECTORY/mobility_file).set_index(\"District\")\n",
    "#mobility_num = pd.read_csv(MOBILITY_DIRECTORY/mobility_file)\n",
    "\n",
    "Automobili = mobility_num[\"Automobili\"]\n",
    "Automobili_pkm = Automobili*AVG_KMPERYEAR_AUTOMOBILI\n",
    "\n",
    "Motoveicoli = mobility_num[\"Motoveicoli\"]\n",
    "Motoveicoli_pkm = Motoveicoli*AVG_KMPERYEAR_MOTOVEICOLI\n",
    "\n",
    "Motoleggere = mobility_num[\"Motoveicoli\"]\n",
    "Motoleggere_pkm = Motoveicoli*AVG_KMPERYEAR_MOTOLEGGERE\n"
   ]
  },
  {
   "cell_type": "markdown",
   "id": "7439c22d-e541-4154-a5fa-efa0d0d24fec",
   "metadata": {},
   "source": [
    "## AUTOMOBILY"
   ]
  },
  {
   "cell_type": "code",
   "execution_count": 4,
   "id": "e4acd087-3743-4d54-a61d-98f881622d80",
   "metadata": {
    "tags": []
   },
   "outputs": [
    {
     "data": {
      "text/plain": [
       "District\n",
       "Mendrisio       427295180\n",
       "Lugano         1225899000\n",
       "Locarno         486540600\n",
       "Vallemaggia      47177380\n",
       "Bellinzona      435926120\n",
       "Riviera          85265540\n",
       "Blenio           47941180\n",
       "Leventina        74992430\n",
       "Name: Automobili, dtype: int64"
      ]
     },
     "execution_count": 4,
     "metadata": {},
     "output_type": "execute_result"
    }
   ],
   "source": [
    "Automobili_pkm"
   ]
  },
  {
   "cell_type": "code",
   "execution_count": 5,
   "id": "3754db3f-aee7-47ea-af6d-94d1564e9918",
   "metadata": {
    "tags": []
   },
   "outputs": [],
   "source": [
    "TI_carburant_file = \"TI_anno_carburante.csv\"\n",
    "Automobility_carburanti = pd.read_csv(MOBILITY_DIRECTORY/TI_carburant_file).set_index(\"Carburant\")"
   ]
  },
  {
   "cell_type": "code",
   "execution_count": 6,
   "id": "43a9aeb4-fab4-4103-9acb-f0c35138c307",
   "metadata": {
    "tags": []
   },
   "outputs": [],
   "source": [
    "Automobility_carburanti_2020 = Automobility_carburanti['2020']\n",
    "Automobility_sum_2020 = Automobility_carburanti_2020.sum()"
   ]
  },
  {
   "cell_type": "code",
   "execution_count": 7,
   "id": "f8002a6a-e6d2-44d2-8819-f4b97b9d485b",
   "metadata": {
    "tags": []
   },
   "outputs": [
    {
     "name": "stdout",
     "output_type": "stream",
     "text": [
      "Carburant\n",
      "Essence                                     148394\n",
      "Diesel                                       63454\n",
      "Essence-electrique: hybride normal            6274\n",
      "Essence-electrique: hybride rechargeable      1305\n",
      "Diesel-electrique: hybride normal              610\n",
      "Diesel-electrique: hybride rechargeable         38\n",
      "Electrique                                    1689\n",
      "Hydrogene                                        0\n",
      "Gaz (monovalent et bivalent)                   558\n",
      "Autre                                           69\n",
      "Name: 2020, dtype: int64 sum = 222391\n"
     ]
    }
   ],
   "source": [
    "print(Automobility_carburanti_2020, \"sum =\", Automobility_sum_2020)"
   ]
  },
  {
   "cell_type": "code",
   "execution_count": 8,
   "id": "8c123f01-87ee-4cc3-beed-87fa718ae0f8",
   "metadata": {
    "tags": []
   },
   "outputs": [],
   "source": [
    "Automobility_carburanti_2020_share = Automobility_carburanti_2020/Automobility_sum_2020"
   ]
  },
  {
   "cell_type": "code",
   "execution_count": 9,
   "id": "e8a01ef8-daed-44a3-af6d-ba14ece41472",
   "metadata": {
    "tags": []
   },
   "outputs": [
    {
     "data": {
      "text/plain": [
       "Carburant\n",
       "Essence                                     0.667266\n",
       "Diesel                                      0.285326\n",
       "Essence-electrique: hybride normal          0.028212\n",
       "Essence-electrique: hybride rechargeable    0.005868\n",
       "Diesel-electrique: hybride normal           0.002743\n",
       "Diesel-electrique: hybride rechargeable     0.000171\n",
       "Electrique                                  0.007595\n",
       "Hydrogene                                   0.000000\n",
       "Gaz (monovalent et bivalent)                0.002509\n",
       "Autre                                       0.000310\n",
       "Name: 2020, dtype: float64"
      ]
     },
     "execution_count": 9,
     "metadata": {},
     "output_type": "execute_result"
    }
   ],
   "source": [
    "Automobility_carburanti_2020_share.to_csv(\"test.csv\")\n",
    "Automobility_carburanti_2020_share"
   ]
  },
  {
   "cell_type": "code",
   "execution_count": 10,
   "id": "184a12bf-c471-4b86-a1c7-340cca11daff",
   "metadata": {
    "tags": []
   },
   "outputs": [],
   "source": [
    "Auto_pkm_carburant = pd.DataFrame()\n",
    "\n",
    "for dis in range(len(Automobili_pkm)):\n",
    "    pkm_carb = Automobili_pkm.iloc[dis]*Automobility_carburanti_2020_share\n",
    "    Auto_pkm_carburant=  pd.concat([Auto_pkm_carburant, pkm_carb], axis=1)\n",
    "\n",
    "Auto_pkm_carburant = Auto_pkm_carburant.T\n",
    "Auto_pkm_carburant[\"District\"] = Automobili_pkm.index\n",
    "Auto_pkm_carburant = Auto_pkm_carburant.set_index(\"District\", drop = True)\n",
    "Auto_pkm_carburant.to_csv(\"private_mobility_pkm_per_carb.csv\")"
   ]
  },
  {
   "cell_type": "code",
   "execution_count": 11,
   "id": "31b831ab-10a4-4fe4-b0fb-e041002c1528",
   "metadata": {},
   "outputs": [
    {
     "data": {
      "text/html": [
       "<div>\n",
       "<style scoped>\n",
       "    .dataframe tbody tr th:only-of-type {\n",
       "        vertical-align: middle;\n",
       "    }\n",
       "\n",
       "    .dataframe tbody tr th {\n",
       "        vertical-align: top;\n",
       "    }\n",
       "\n",
       "    .dataframe thead th {\n",
       "        text-align: right;\n",
       "    }\n",
       "</style>\n",
       "<table border=\"1\" class=\"dataframe\">\n",
       "  <thead>\n",
       "    <tr style=\"text-align: right;\">\n",
       "      <th></th>\n",
       "      <th>Essence</th>\n",
       "      <th>Diesel</th>\n",
       "      <th>Essence-electrique: hybride normal</th>\n",
       "      <th>Essence-electrique: hybride rechargeable</th>\n",
       "      <th>Diesel-electrique: hybride normal</th>\n",
       "      <th>Diesel-electrique: hybride rechargeable</th>\n",
       "      <th>Electrique</th>\n",
       "      <th>Hydrogene</th>\n",
       "      <th>Gaz (monovalent et bivalent)</th>\n",
       "      <th>Autre</th>\n",
       "    </tr>\n",
       "    <tr>\n",
       "      <th>District</th>\n",
       "      <th></th>\n",
       "      <th></th>\n",
       "      <th></th>\n",
       "      <th></th>\n",
       "      <th></th>\n",
       "      <th></th>\n",
       "      <th></th>\n",
       "      <th></th>\n",
       "      <th></th>\n",
       "      <th></th>\n",
       "    </tr>\n",
       "  </thead>\n",
       "  <tbody>\n",
       "    <tr>\n",
       "      <th>Mendrisio</th>\n",
       "      <td>2.851196e+08</td>\n",
       "      <td>1.219186e+08</td>\n",
       "      <td>1.205467e+07</td>\n",
       "      <td>2.507387e+06</td>\n",
       "      <td>1.172035e+06</td>\n",
       "      <td>73012.023148</td>\n",
       "      <td>3.245192e+06</td>\n",
       "      <td>0.0</td>\n",
       "      <td>1.072124e+06</td>\n",
       "      <td>132574.463085</td>\n",
       "    </tr>\n",
       "    <tr>\n",
       "      <th>Lugano</th>\n",
       "      <td>8.180010e+08</td>\n",
       "      <td>3.497812e+08</td>\n",
       "      <td>3.458454e+07</td>\n",
       "      <td>7.193628e+06</td>\n",
       "      <td>3.362539e+06</td>\n",
       "      <td>209469.636811</td>\n",
       "      <td>9.310374e+06</td>\n",
       "      <td>0.0</td>\n",
       "      <td>3.075896e+06</td>\n",
       "      <td>380352.761578</td>\n",
       "    </tr>\n",
       "    <tr>\n",
       "      <th>Locarno</th>\n",
       "      <td>3.246521e+08</td>\n",
       "      <td>1.388228e+08</td>\n",
       "      <td>1.372608e+07</td>\n",
       "      <td>2.855041e+06</td>\n",
       "      <td>1.334540e+06</td>\n",
       "      <td>83135.301339</td>\n",
       "      <td>3.695145e+06</td>\n",
       "      <td>0.0</td>\n",
       "      <td>1.220776e+06</td>\n",
       "      <td>150956.205062</td>\n",
       "    </tr>\n",
       "    <tr>\n",
       "      <th>Vallemaggia</th>\n",
       "      <td>3.147987e+07</td>\n",
       "      <td>1.346095e+07</td>\n",
       "      <td>1.330948e+06</td>\n",
       "      <td>2.768389e+05</td>\n",
       "      <td>1.294036e+05</td>\n",
       "      <td>8061.209491</td>\n",
       "      <td>3.582995e+05</td>\n",
       "      <td>0.0</td>\n",
       "      <td>1.183725e+05</td>\n",
       "      <td>14637.459340</td>\n",
       "    </tr>\n",
       "    <tr>\n",
       "      <th>Bellinzona</th>\n",
       "      <td>2.908788e+08</td>\n",
       "      <td>1.243812e+08</td>\n",
       "      <td>1.229816e+07</td>\n",
       "      <td>2.558033e+06</td>\n",
       "      <td>1.195709e+06</td>\n",
       "      <td>74486.793800</td>\n",
       "      <td>3.310742e+06</td>\n",
       "      <td>0.0</td>\n",
       "      <td>1.093780e+06</td>\n",
       "      <td>135252.336111</td>\n",
       "    </tr>\n",
       "    <tr>\n",
       "      <th>Riviera</th>\n",
       "      <td>5.689481e+07</td>\n",
       "      <td>2.432850e+07</td>\n",
       "      <td>2.405475e+06</td>\n",
       "      <td>5.003419e+05</td>\n",
       "      <td>2.338763e+05</td>\n",
       "      <td>14569.341925</td>\n",
       "      <td>6.475689e+05</td>\n",
       "      <td>0.0</td>\n",
       "      <td>2.139393e+05</td>\n",
       "      <td>26454.857706</td>\n",
       "    </tr>\n",
       "    <tr>\n",
       "      <th>Blenio</th>\n",
       "      <td>3.198953e+07</td>\n",
       "      <td>1.367888e+07</td>\n",
       "      <td>1.352496e+06</td>\n",
       "      <td>2.813209e+05</td>\n",
       "      <td>1.314987e+05</td>\n",
       "      <td>8191.720169</td>\n",
       "      <td>3.641004e+05</td>\n",
       "      <td>0.0</td>\n",
       "      <td>1.202889e+05</td>\n",
       "      <td>14874.439253</td>\n",
       "    </tr>\n",
       "    <tr>\n",
       "      <th>Leventina</th>\n",
       "      <td>5.003991e+07</td>\n",
       "      <td>2.139731e+07</td>\n",
       "      <td>2.115654e+06</td>\n",
       "      <td>4.400588e+05</td>\n",
       "      <td>2.056980e+05</td>\n",
       "      <td>12813.973317</td>\n",
       "      <td>5.695474e+05</td>\n",
       "      <td>0.0</td>\n",
       "      <td>1.881631e+05</td>\n",
       "      <td>23267.477866</td>\n",
       "    </tr>\n",
       "  </tbody>\n",
       "</table>\n",
       "</div>"
      ],
      "text/plain": [
       "                  Essence        Diesel  Essence-electrique: hybride normal   \n",
       "District                                                                      \n",
       "Mendrisio    2.851196e+08  1.219186e+08                        1.205467e+07  \\\n",
       "Lugano       8.180010e+08  3.497812e+08                        3.458454e+07   \n",
       "Locarno      3.246521e+08  1.388228e+08                        1.372608e+07   \n",
       "Vallemaggia  3.147987e+07  1.346095e+07                        1.330948e+06   \n",
       "Bellinzona   2.908788e+08  1.243812e+08                        1.229816e+07   \n",
       "Riviera      5.689481e+07  2.432850e+07                        2.405475e+06   \n",
       "Blenio       3.198953e+07  1.367888e+07                        1.352496e+06   \n",
       "Leventina    5.003991e+07  2.139731e+07                        2.115654e+06   \n",
       "\n",
       "             Essence-electrique: hybride rechargeable   \n",
       "District                                                \n",
       "Mendrisio                                2.507387e+06  \\\n",
       "Lugano                                   7.193628e+06   \n",
       "Locarno                                  2.855041e+06   \n",
       "Vallemaggia                              2.768389e+05   \n",
       "Bellinzona                               2.558033e+06   \n",
       "Riviera                                  5.003419e+05   \n",
       "Blenio                                   2.813209e+05   \n",
       "Leventina                                4.400588e+05   \n",
       "\n",
       "             Diesel-electrique: hybride normal   \n",
       "District                                         \n",
       "Mendrisio                         1.172035e+06  \\\n",
       "Lugano                            3.362539e+06   \n",
       "Locarno                           1.334540e+06   \n",
       "Vallemaggia                       1.294036e+05   \n",
       "Bellinzona                        1.195709e+06   \n",
       "Riviera                           2.338763e+05   \n",
       "Blenio                            1.314987e+05   \n",
       "Leventina                         2.056980e+05   \n",
       "\n",
       "             Diesel-electrique: hybride rechargeable    Electrique  Hydrogene   \n",
       "District                                                                        \n",
       "Mendrisio                               73012.023148  3.245192e+06        0.0  \\\n",
       "Lugano                                 209469.636811  9.310374e+06        0.0   \n",
       "Locarno                                 83135.301339  3.695145e+06        0.0   \n",
       "Vallemaggia                              8061.209491  3.582995e+05        0.0   \n",
       "Bellinzona                              74486.793800  3.310742e+06        0.0   \n",
       "Riviera                                 14569.341925  6.475689e+05        0.0   \n",
       "Blenio                                   8191.720169  3.641004e+05        0.0   \n",
       "Leventina                               12813.973317  5.695474e+05        0.0   \n",
       "\n",
       "             Gaz (monovalent et bivalent)          Autre  \n",
       "District                                                  \n",
       "Mendrisio                    1.072124e+06  132574.463085  \n",
       "Lugano                       3.075896e+06  380352.761578  \n",
       "Locarno                      1.220776e+06  150956.205062  \n",
       "Vallemaggia                  1.183725e+05   14637.459340  \n",
       "Bellinzona                   1.093780e+06  135252.336111  \n",
       "Riviera                      2.139393e+05   26454.857706  \n",
       "Blenio                       1.202889e+05   14874.439253  \n",
       "Leventina                    1.881631e+05   23267.477866  "
      ]
     },
     "execution_count": 11,
     "metadata": {},
     "output_type": "execute_result"
    }
   ],
   "source": [
    "Auto_pkm_carburant"
   ]
  },
  {
   "cell_type": "code",
   "execution_count": 12,
   "id": "89ef55f4-12ac-4560-8e58-cfd554550239",
   "metadata": {},
   "outputs": [
    {
     "ename": "SyntaxError",
     "evalue": "invalid syntax (2808026803.py, line 1)",
     "output_type": "error",
     "traceback": [
      "\u001b[1;36m  Cell \u001b[1;32mIn[12], line 1\u001b[1;36m\u001b[0m\n\u001b[1;33m    Auto_pkm_carburant[\"Benzina_Ltr\"] = Auto_pkm_carburant[\"Essence\"]*\u001b[0m\n\u001b[1;37m                                                                      ^\u001b[0m\n\u001b[1;31mSyntaxError\u001b[0m\u001b[1;31m:\u001b[0m invalid syntax\n"
     ]
    }
   ],
   "source": [
    "Auto_pkm_carburant[\"Benzina_Ltr\"] = Auto_pkm_carburant[\"Essence\"]"
   ]
  }
 ],
 "metadata": {
  "kernelspec": {
   "display_name": "Python 3 (ipykernel)",
   "language": "python",
   "name": "python3"
  },
  "language_info": {
   "codemirror_mode": {
    "name": "ipython",
    "version": 3
   },
   "file_extension": ".py",
   "mimetype": "text/x-python",
   "name": "python",
   "nbconvert_exporter": "python",
   "pygments_lexer": "ipython3",
   "version": "3.9.13"
  }
 },
 "nbformat": 4,
 "nbformat_minor": 5
}
